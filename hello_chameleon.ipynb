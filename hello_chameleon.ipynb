{
 "cells": [
  {
   "cell_type": "markdown",
   "metadata": {},
   "source": [
    "# Hello, Chameleon"
   ]
  },
  {
   "cell_type": "markdown",
   "metadata": {},
   "source": [
    "In this notebook, you will pick up where you left off after creating a Chameleon account, joining a Chameleon project, and preparing key pair. Now, you will learn how to:\n",
    "\n",
    "-   Reserve resources in Chameleon\n",
    "-   Access your reserved resources over SSH\n",
    "-   Execute commands on your resources\n",
    "-   Retrieving files saved on Chameleon resources\n",
    "-   Extend your Chameleon lease (in case you need more time) or delete it (in case you finish early)"
   ]
  },
  {
   "cell_type": "markdown",
   "metadata": {},
   "source": [
    "## Exercise: reserve resources\n",
    "\n",
    "Whenever you run an experiment on Chameleon, you will\n",
    "\n",
    "1.  Open a Python notebook, which includes commands to reserve the resources (VMs, bare metal servers, or networks) that you need for your experiment. Run these commands.\n",
    "2.  Wait until the resources in your experiment are ready to log in.\n",
    "3.  Log in to the resources and run your experiment (either by executing commands in the notebook, or by using SSH in a terminal and running commands in those SSH sessions).\n",
    "\n",
    "Also, when you finish an experiment and have saved all the data somewhere safe, you will *delete* the resources in your experiment to free them for use by other experimenters.\n",
    "\n",
    "In this exercise, we will reserve a resource on Chameleon."
   ]
  },
  {
   "cell_type": "markdown",
   "metadata": {},
   "source": [
    "### Generating a Virtual Machine on chameleon\n",
    "\n",
    "Run this cell to initialize the environment, also make sure change the vriable “project_name”. project_name looks like “CHI-XXXXX” and it is the name of your project which you were assigned."
   ]
  },
  {
   "cell_type": "code",
   "execution_count": null,
   "metadata": {
    "vscode": {
     "languageId": "python"
    }
   },
   "outputs": [],
   "source": [
    "import chi,os\n",
    "project_name = \"CHI-XXXXXX\"\n",
    "os.environ[\"OS_PROJECT_NAME\"] = project_name\n",
    "chi.set(\"project_name\", project_name)  \n",
    "chi.use_site(\"KVM@TACC\")"
   ]
  },
  {
   "cell_type": "markdown",
   "metadata": {},
   "source": [
    "To ensure uniqueness, each server within a project must have a distinct name. To differentiate your servers from those of your peers, the server’s name should be composed of your chameleon username and an exp_name that your instructor has specified in the cell provided below."
   ]
  },
  {
   "cell_type": "code",
   "execution_count": null,
   "metadata": {
    "vscode": {
     "languageId": "python"
    }
   },
   "outputs": [],
   "source": [
    "exp_name = \"\"\n",
    "user = os.getenv(\"USER\")\n",
    "server_name = f\"{exp_name}_{user}\"\n"
   ]
  },
  {
   "cell_type": "markdown",
   "metadata": {},
   "source": [
    "### Creating the server"
   ]
  },
  {
   "cell_type": "code",
   "execution_count": null,
   "metadata": {
    "vscode": {
     "languageId": "python"
    }
   },
   "outputs": [],
   "source": [
    "import chi.server\n",
    "flavor = \"m1.small\"\n",
    "image_name = \"CC-Ubuntu20.04\"\n",
    "server = chi.server.create_server(server_name, \n",
    "                                  image_name=image_name, \n",
    "                                  flavor_name=flavor)\n",
    "\n",
    "server_id = server.id\n",
    "chi.server.wait_for_active(server_id)"
   ]
  },
  {
   "cell_type": "markdown",
   "metadata": {},
   "source": [
    "Associate an IP address with this server:"
   ]
  },
  {
   "cell_type": "code",
   "execution_count": null,
   "metadata": {
    "vscode": {
     "languageId": "python"
    }
   },
   "outputs": [],
   "source": [
    "reserved_fip = chi.server.associate_floating_ip(server_id)\n",
    "reserved_fip"
   ]
  },
  {
   "cell_type": "markdown",
   "metadata": {},
   "source": [
    "### Creating a Security group\n",
    "\n",
    "A security group named “Allow SSH” will be generated in the following cell for our project, enabling us to connect to the remote server from our local desktop."
   ]
  },
  {
   "cell_type": "code",
   "execution_count": null,
   "metadata": {
    "vscode": {
     "languageId": "python"
    }
   },
   "outputs": [],
   "source": [
    "%%bash\n",
    "export OS_AUTH_URL=https://kvm.tacc.chameleoncloud.org:5000/v3\n",
    "export OS_REGION_NAME=\"KVM@TACC\"\n",
    "\n",
    "access_token=$(curl -s -H\"authorization: token $JUPYTERHUB_API_TOKEN\"     \"$JUPYTERHUB_API_URL/users/$JUPYTERHUB_USER\"     | jq -r .auth_state.access_token)\n",
    "export OS_ACCESS_TOKEN=\"$access_token\"\n",
    "SECURITY_GROUP_NAME=\"Allow SSH\"\n",
    "\n",
    "if ! openstack security group show \"$SECURITY_GROUP_NAME\" > /dev/null 2>&1; then\n",
    "    openstack security group create \"$SECURITY_GROUP_NAME\"  --description \"Enable SSH traffic on TCP port 22\"\n",
    "    openstack security group rule create \"$SECURITY_GROUP_NAME\" \\\n",
    "     --protocol tcp --dst-port 22:22 --remote-ip 0.0.0.0/0\n",
    "\n",
    "\n",
    "else\n",
    "    echo \"Security group already exists\"\n",
    "fi"
   ]
  },
  {
   "cell_type": "markdown",
   "metadata": {},
   "source": [
    "The preceding cell generated a security group, and this cell will attach that security group to our server, making it ready to be accessed via SSH."
   ]
  },
  {
   "cell_type": "code",
   "execution_count": null,
   "metadata": {
    "vscode": {
     "languageId": "python"
    }
   },
   "outputs": [],
   "source": [
    "nova_server = chi.nova().servers.get(server_id)\n",
    "nova_server.add_security_group(\"Allow SSH\")\n",
    "f\"updated security groups: {[group.name for group in nova_server.list_security_group()]}\""
   ]
  },
  {
   "cell_type": "markdown",
   "metadata": {},
   "source": [
    "Wait for the server to be ready to connect."
   ]
  },
  {
   "cell_type": "code",
   "execution_count": null,
   "metadata": {
    "vscode": {
     "languageId": "python"
    }
   },
   "outputs": [],
   "source": [
    "server.wait_for_tcp(reserved_fip, port=22)"
   ]
  },
  {
   "cell_type": "markdown",
   "metadata": {},
   "source": [
    "Now our resources are reserved and ready to login through SSH"
   ]
  },
  {
   "cell_type": "markdown",
   "metadata": {},
   "source": [
    "## Exercise: log in to resources and execute commands"
   ]
  },
  {
   "cell_type": "markdown",
   "metadata": {},
   "source": [
    "### Logging in over SSH via local terminal\n",
    "\n",
    "Once your server is ready to use. you can follow the guidelines below to log in to your server via SSH."
   ]
  },
  {
   "cell_type": "markdown",
   "metadata": {},
   "source": [
    "Run the cell below and use it’s output as the exact command to login through your laptop’s terminal."
   ]
  },
  {
   "cell_type": "code",
   "execution_count": null,
   "metadata": {
    "vscode": {
     "languageId": "python"
    }
   },
   "outputs": [],
   "source": [
    "\n",
    "print(f\"ssh -i ~/.ssh/id_rsa_chameleon cc@{reserved_fip}\")\n"
   ]
  },
  {
   "cell_type": "markdown",
   "metadata": {},
   "source": [
    "The first time you log in to each new host, your computer will display a warning similar to the following:\n",
    "\n",
    "``` shell\n",
    "The authenticity of host \"129.114.26.xx (129.114.26.xx)\" cannot be established.\n",
    "ED25519 key fingerprint is SHA256:1fcbGrgLDdOeorauhz3CTyhmFqOHsrEWlu0TZ6yGoDM.\n",
    "This key is not known by any other names\n",
    "Are you sure you want to continue connecting (yes/no/[fingerprint])?\n",
    "```\n",
    "\n",
    "and you will have to type the word *yes* and hit Enter to continue. If you have specified your key path and other details correctly, it won’t ask you for a password when you log in to the node. (It may ask for the passphrase for your private key if you’ve set one.)"
   ]
  },
  {
   "cell_type": "markdown",
   "metadata": {},
   "source": [
    "The output of the above command will look somewhat like this.\n",
    "\n",
    "``` shell\n",
    "Welcome to Ubuntu 20.04.4 LTS (GNU/Linux 5.4.0-124-generic x86_64)\n",
    "\n",
    " * Documentation:  https://help.ubuntu.com\n",
    " * Management:     https://landscape.canonical.com\n",
    " * Support:        https://ubuntu.com/advantage\n",
    "\n",
    "  System information as of Thu Feb 23 17:52:13 UTC 2023\n",
    "\n",
    "  System load:  0.08               Processes:             143\n",
    "  Usage of /:   10.5% of 36.90GB   Users logged in:       1\n",
    "  Memory usage: 12%                IPv4 address for ens3: 10.56.0.154\n",
    "  Swap usage:   0%\n",
    "\n",
    "\n",
    "0 updates can be applied immediately.\n",
    "\n",
    "\n",
    "Last login: Thu Feb 23 16:44:05 2023 from 100.35.242.215\n",
    "cc@cp3793-nyu-edu-fount:~$\n",
    "```"
   ]
  },
  {
   "cell_type": "markdown",
   "metadata": {},
   "source": [
    "We will create a file hello.txt on our remote machine.\n",
    "\n",
    "``` shell\n",
    ":~$ echo \"Hello from $(hostname)\" > hello.txt\n",
    "```\n",
    "\n",
    "Now we will use this file “hello.txt” in the later exercises where we will see how transfering of file works between remote host and local host."
   ]
  },
  {
   "cell_type": "markdown",
   "metadata": {},
   "source": [
    "## Exercise: transfer files to and from resources\n",
    "\n",
    "While working on a remote host we have to transfer files from remote to local and vice versa. To move data back and forth between your laptop and remote system that you access with *ssh*, we can use *scp*. The syntax is:\n",
    "\n",
    "``` shell\n",
    "scp [OPTIONS] SOURCE DESTINATION\n",
    "```\n",
    "\n",
    "where SOURCE is the full address of the location where the file is currently llocated, and DESTINATION is the address of the location that you want to copy a file to.\n",
    "\n",
    "When you are transferring a file from a remote host to your laptop, you will run scp from a terminal on your laptop (NOT a terminal that is logged in to the remote host), and the syntax will look like this:"
   ]
  },
  {
   "cell_type": "markdown",
   "metadata": {},
   "source": [
    "### Transfering files through the local terminal\n",
    "\n",
    "When we logged in through our local environment on the terminal of our laptop, We created a folder “chameleon” and inside the folder we created a file “hello.txt” on the remote host. Here in this exercise we will run a *scp* command to get that file from remote host to our laptop.\n",
    "\n",
    "``` shell\n",
    "user@username:~$ scp -i ~/.ssh/id_rsa_chameleon cc@reserved_fip:/home/cc/chameleon/hello.txt .\n",
    "hello.txt                       100%    1KB     0.1KB/s   00:00\n",
    "user@username:~$\n",
    "```\n",
    "\n",
    "Run the code below and you will get the exact command which you have to use in your local terminal"
   ]
  },
  {
   "cell_type": "code",
   "execution_count": null,
   "metadata": {
    "vscode": {
     "languageId": "python"
    }
   },
   "outputs": [],
   "source": [
    "print(f'scp -i ~/.ssh/id_rsa_chameleon cc@{reserved_fip}:/home/cc/chameleon/hello.txt .')\n"
   ]
  },
  {
   "cell_type": "markdown",
   "metadata": {},
   "source": [
    "Now we have transfered hello.txt from remote host to our laptop. Now we can open that file edit it in any of the editor and then try transfering the same to remote host.\n",
    "\n",
    "``` shell\n",
    "user@username:~$ scp hello.txt cc@reserved_fip:/home/cc/chameleon/\n",
    "hello.txt                       100%    1KB     0.1KB/s   00:00\n",
    "user@username:~$\n",
    "```\n",
    "\n",
    "Run the code below and you will get the exact command which you have to use in your local terminal to transfer the file back to remote host"
   ]
  },
  {
   "cell_type": "code",
   "execution_count": null,
   "metadata": {
    "vscode": {
     "languageId": "python"
    }
   },
   "outputs": [],
   "source": [
    "print(f'scp -i ~/.ssh/id_rsa_chameleon hello.txt cc@{reserved_fip}:/home/cc/chameleon/')\n"
   ]
  },
  {
   "cell_type": "markdown",
   "metadata": {},
   "source": [
    "Use of `-i ~/.ssh/id_rsa_chameleon` is optional if your Chameleon key is in the default location."
   ]
  },
  {
   "cell_type": "markdown",
   "metadata": {},
   "source": [
    "## Exercise: delete resources\n",
    "\n",
    "Once you are done using the resources, you can delete them by changing DELETE = True and run the cell below.\n",
    "\n",
    "Once you delete your resources, you will no longer have access to them, and all the data on them will be deleted. Make sure that you have saved everything before you delete your resources."
   ]
  },
  {
   "cell_type": "code",
   "execution_count": null,
   "metadata": {
    "vscode": {
     "languageId": "python"
    }
   },
   "outputs": [],
   "source": [
    "DELETE = False\n",
    "\n",
    "if DELETE:\n",
    "    chi.server.delete_server(server_id)\n",
    "    ip_details = chi.network.get_floating_ip(reserved_fip)\n",
    "    chi.neutron().delete_floatingip(ip_details[\"id\"])"
   ]
  }
 ],
 "metadata": {
  "kernelspec": {
   "display_name": "Python 3",
   "name": "python"
  }
 },
 "nbformat": 4,
 "nbformat_minor": 0
}
