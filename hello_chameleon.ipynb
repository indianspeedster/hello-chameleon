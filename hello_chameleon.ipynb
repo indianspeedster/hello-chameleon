{
 "cells": [
  {
   "cell_type": "markdown",
   "metadata": {},
   "source": [
    "# Hello, Chameleon"
   ]
  },
  {
   "cell_type": "markdown",
   "metadata": {},
   "source": [
    "In this notebook, you will pick up where you left off after creating a Chameleon account, joining a Chameleon project, and preparing key pair. Now, you will learn how to:\n",
    "\n",
    "-   Reserve resources in Chameleon\n",
    "-   Access your reserved resources over SSH\n",
    "-   Execute commands on your resources\n",
    "-   Retrieving files saved on Chameleon resources\n",
    "-   Extend your Chameleon lease (in case you need more time) or delete it (in case you finish early)"
   ]
  },
  {
   "cell_type": "markdown",
   "metadata": {},
   "source": [
    "## Exercise: reserve resources\n",
    "\n",
    "Whenever you run an experiment on Chameleon, you will\n",
    "\n",
    "1.  Open a Python notebook, which includes commands to reserve the resources (VMs, bare metal servers, or networks) that you need for your experiment. Run these commands.\n",
    "2.  Wait until the resources in your experiment are ready to log in.\n",
    "3.  Log in to the resources and run your experiment (either by executing commands in the notebook, or by using SSH in a terminal and running commands in those SSH sessions).\n",
    "\n",
    "Also, when you finish an experiment and have saved all the data somewhere safe, you will *delete* the resources in your experiment to free them for use by other experimenters.\n",
    "\n",
    "In this exercise, we will reserve a resource on Chameleon."
   ]
  },
  {
   "cell_type": "markdown",
   "metadata": {},
   "source": [
    "### Generating a Virtual Machine on chameleon\n",
    "\n",
    "The below cells will take project_name and exp_name as input from the user to configure the experiment environment."
   ]
  },
  {
   "cell_type": "code",
   "execution_count": null,
   "metadata": {},
   "outputs": [],
   "source": [
    "import chi,os\n",
    "project_name = input(\"Enter your project name\")\n",
    "chi.set(\"project_name\", \"CHI-231095\")  # Please change this to your project name (CH-XXXXXX)\n",
    "chi.use_site(\"KVM@TACC\")"
   ]
  },
  {
   "cell_type": "code",
   "execution_count": null,
   "metadata": {},
   "outputs": [],
   "source": [
    "exp_name = input(\"Enter your experiment name here\")\n",
    "user = os.getenv(\"USER\")\n",
    "server_name = f\"{user}_{exp_name}\"\n",
    "image_name = \"CC-Ubuntu20.04\""
   ]
  },
  {
   "cell_type": "markdown",
   "metadata": {},
   "source": [
    "### Flavors\n",
    "\n",
    "While Chameleon bare-metal is limited to a single “flavor” of baremetal, KVM offers virtualized hardware which provides us with the flexibility to choose from various configurations to meet our specific needs, while minimizing the impact on our allocation quota.\n",
    "\n",
    "As of writing this, there are currently **7** flavors available:\n",
    "\n",
    "| Name        | VCPUs | RAM    | Total Disk |\n",
    "|-------------|-------|--------|------------|\n",
    "| m1.tiny     | 1     | 512 MB | 1 GB       |\n",
    "| m1.small    | 1     | 2 GB   | 20 GB      |\n",
    "| m1.medium   | 2     | 4 GB   | 40 GB      |\n",
    "| m1.large    | 4     | 8 GB   | 40 GB      |\n",
    "| m1.xlarge   | 8     | 16 GB  | 40 GB      |\n",
    "| m1.xxlarge  | 16    | 32 GB  | 40 GB      |\n",
    "| m1.xxxlarge | 16    | 64 GB  | 40 GB      |\n",
    "\n",
    "Also, The number of flavors assigned to a project depends on the specific project."
   ]
  },
  {
   "cell_type": "markdown",
   "metadata": {},
   "source": [
    "### Selecting Flavors\n",
    "\n",
    "After running the cell below you will get a dropdown which consist of all the flavors assigned to your project. you can select one of the flavor which you feel will be sufficient for your experiment."
   ]
  },
  {
   "cell_type": "code",
   "execution_count": null,
   "metadata": {},
   "outputs": [],
   "source": [
    "import chi.server\n",
    "import ipywidgets as widgets\n",
    "flavor = 'm1.tiny'\n",
    "print('Available flavors')\n",
    "drop_down = widgets.Dropdown(options=[i.name for i in chi.server.list_flavors()],\n",
    "                                disabled=False)\n",
    "\n",
    "def dropdown_handler(change):\n",
    "    global flavor\n",
    "    flavor = change.new  \n",
    "drop_down.observe(dropdown_handler, names='value')\n",
    "display(drop_down)\n"
   ]
  },
  {
   "cell_type": "markdown",
   "metadata": {},
   "source": [
    "### Creating the server"
   ]
  },
  {
   "cell_type": "code",
   "execution_count": null,
   "metadata": {},
   "outputs": [],
   "source": [
    "import chi.server\n",
    "\n",
    "server = chi.server.create_server(server_name, \n",
    "                                  image_name=image_name, \n",
    "                                  flavor_name=flavor)\n",
    "\n",
    "server_id = server.id\n",
    "chi.server.wait_for_active(server_id)"
   ]
  },
  {
   "cell_type": "markdown",
   "metadata": {},
   "source": [
    "### Attaching a floating IP\n",
    "\n",
    "At KVM@TACC, since there are no reservations, we can easily obtain a floating IP address from the available pool without any prior booking. However, it’s crucial to keep in mind that the pool of floating IPs is limited. Therefore, it’s advisable to be mindful of your usage and not allocate more floating IPs than necessary, considering the other researchers who also need to utilize them.\n",
    "\n",
    "In case you require multiple VMs for your experiment, a practical approach is to connect them all on one network. By doing so, you can use a single floating IP to link to a “head” node and access all the other nodes through it."
   ]
  },
  {
   "cell_type": "code",
   "execution_count": null,
   "metadata": {},
   "outputs": [],
   "source": [
    "floating_ip = chi.server.associate_floating_ip(server_id)\n",
    "floating_ip"
   ]
  },
  {
   "cell_type": "markdown",
   "metadata": {},
   "source": [
    "### Security groups\n",
    "\n",
    "The KVM cloud has a distinctive feature in the form of security groups, which are firewall rules that can be configured through OpenStack and the Horizon dashboard. They offer a hassle-free approach to configure the security of your VM. Although these groups also exist in the bare-metal cloud, they don’t serve any purpose there.\n",
    "\n",
    "By default, all external connections to your VM are blocked. Therefore, to enable remote connections, you will need to assign the “Allow SSH” security group to your VM, which can be found by viewing the list of available groups.\n",
    "\n",
    "It’s important to note that in almost all cases, the “Allow SSH” security group is the ONLY group that you need to assign to your VM.\n",
    "\n",
    "The cell below make sure that there is an Allow SSH security group created, if there is no such groups it creates one."
   ]
  },
  {
   "cell_type": "code",
   "execution_count": null,
   "metadata": {},
   "outputs": [],
   "source": [
    "%%bash\n",
    "export OS_AUTH_URL=https://kvm.tacc.chameleoncloud.org:5000/v3\n",
    "export OS_REGION_NAME=\"KVM@TACC\"\n",
    "export OS_PROJECT_NAME=\"CHI-231095\"\n",
    "\n",
    "access_token=$(curl -s -H\"authorization: token $JUPYTERHUB_API_TOKEN\"     \"$JUPYTERHUB_API_URL/users/$JUPYTERHUB_USER\"     | jq -r .auth_state.access_token)\n",
    "export OS_ACCESS_TOKEN=\"$access_token\"\n",
    "SECURITY_GROUP_NAME=\"Allow SSH\"\n",
    "\n",
    "if ! openstack security group show $SECURITY_GROUP_NAME > /dev/null 2>&1; then\n",
    "    openstack security group create $SECURITY_GROUP_NAME  --description \"Enable SSH traffic on TCP port 22\"\n",
    "    openstack security group rule create $SECURITY_GROUP_NAME \\\n",
    "     --protocol tcp --dst-port 22:22 --remote-ip 0.0.0.0/0\n",
    "\n",
    "\n",
    "else\n",
    "    echo \"Security group already exists\"\n",
    "fi"
   ]
  },
  {
   "cell_type": "code",
   "execution_count": null,
   "metadata": {},
   "outputs": [],
   "source": [
    "nova_server = chi.nova().servers.get(server_id)\n",
    "f\"current security groups: {[group.name for group in nova_server.list_security_group()]}\""
   ]
  },
  {
   "cell_type": "code",
   "execution_count": null,
   "metadata": {},
   "outputs": [],
   "source": [
    "[group[\"name\"] for group in chi.neutron().list_security_groups()[\"security_groups\"] if \"ssh\" in group[\"name\"].lower()]"
   ]
  },
  {
   "cell_type": "code",
   "execution_count": null,
   "metadata": {},
   "outputs": [],
   "source": [
    "nova_server.add_security_group(\"Allow SSH\")\n",
    "f\"updated security groups: {[group.name for group in nova_server.list_security_group()]}\""
   ]
  },
  {
   "cell_type": "markdown",
   "metadata": {},
   "source": [
    "Now our resources are reserved and ready to login through SSH"
   ]
  },
  {
   "cell_type": "markdown",
   "metadata": {},
   "source": [
    "## Exercise: log in to resources and execute commands"
   ]
  },
  {
   "cell_type": "markdown",
   "metadata": {},
   "source": [
    "### Extracting the floating ip that is attached to our server"
   ]
  },
  {
   "cell_type": "code",
   "execution_count": null,
   "metadata": {},
   "outputs": [],
   "source": [
    "floating_ips = chi.network.list_floating_ips()\n",
    "for ip in floating_ips:\n",
    "    if ip['fixed_ip_address'] is not None:\n",
    "        reserved_fip = ip['floating_ip_address']\n",
    "        break\n",
    "reserved_fip"
   ]
  },
  {
   "cell_type": "markdown",
   "metadata": {},
   "source": [
    "### Logging in over SSH via the jupyter env"
   ]
  },
  {
   "cell_type": "code",
   "execution_count": null,
   "metadata": {},
   "outputs": [],
   "source": [
    "from chi.ssh import Remote\n",
    "\n",
    "node = Remote(reserved_fip)\n",
    "node.is_connected"
   ]
  },
  {
   "cell_type": "markdown",
   "metadata": {},
   "source": [
    "**Executing terminal commands via notebook**"
   ]
  },
  {
   "cell_type": "code",
   "execution_count": null,
   "metadata": {},
   "outputs": [],
   "source": [
    "node.run('echo \"Update starting\"')\n",
    "node.run('sudo apt update')"
   ]
  },
  {
   "cell_type": "markdown",
   "metadata": {},
   "source": [
    "### Logging in over SSH via local terminal\n",
    "\n",
    "In a local terminal on your own laptop, run"
   ]
  },
  {
   "cell_type": "code",
   "execution_count": null,
   "metadata": {},
   "outputs": [],
   "source": [
    "print('ssh -L 127.0.0.1:8888:127.0.0.1:8888 cc@' + reserved_fip) "
   ]
  },
  {
   "cell_type": "markdown",
   "metadata": {},
   "source": [
    "If your Chameleon key is not in the default location, you should also specify the path to your key as an argument, using -i.\n",
    "\n",
    "eg: ssh -L 127.0.0.1:8888:127.0.0.1:8888 cc@129.114.xx.xxx -i “<path_name>”"
   ]
  },
  {
   "cell_type": "markdown",
   "metadata": {},
   "source": [
    "## Exercise: transfer files to and from resources\n",
    "\n",
    "To securely transfer files between a local and a remote host, we will use the command-line tool called Secure Copy (SCP), which uses the Secure Shell (SSH) protocol for encryption and authentication. SCP provides a secure method for transferring files over a network, ensuring that data remains protected during the transfer process."
   ]
  },
  {
   "cell_type": "markdown",
   "metadata": {},
   "source": [
    "### Transfering a file to remote host from local"
   ]
  },
  {
   "cell_type": "code",
   "execution_count": null,
   "metadata": {},
   "outputs": [],
   "source": [
    "\n",
    "print(f'scp -i <key path> cc@{reserved_fip}:<file path> \"<local path>\"')\n"
   ]
  },
  {
   "cell_type": "markdown",
   "metadata": {},
   "source": [
    "### Transfering a folder to remote host from local"
   ]
  },
  {
   "cell_type": "code",
   "execution_count": null,
   "metadata": {},
   "outputs": [],
   "source": [
    "\n",
    "print(f'scp -r -i <key path> cc@{reserved_fip}:<folder path> \"<local path>\"')\n"
   ]
  },
  {
   "cell_type": "markdown",
   "metadata": {},
   "source": [
    "### Transfering a file to local from remote host"
   ]
  },
  {
   "cell_type": "code",
   "execution_count": null,
   "metadata": {},
   "outputs": [],
   "source": [
    "print(f'scp  -i <key path> \"<local path>\" cc@{reserved_fip}:<file path> ')\n"
   ]
  },
  {
   "cell_type": "markdown",
   "metadata": {},
   "source": [
    "### Transfering a folder to local from remote host"
   ]
  },
  {
   "cell_type": "code",
   "execution_count": null,
   "metadata": {},
   "outputs": [],
   "source": [
    "print(f'scp -r -i <key path> \"<local path>\" cc@{reserved_fip}:<folder path> ')"
   ]
  },
  {
   "cell_type": "markdown",
   "metadata": {},
   "source": [
    "-i “key_path” is needed only if your Chameleon key is not in the default location"
   ]
  },
  {
   "cell_type": "markdown",
   "metadata": {},
   "source": [
    "## Exercise: delete resources\n",
    "\n",
    "Once you are done using the resources, you can delete them by running the cell below. provide the input as “y” if you want to delete the resource."
   ]
  },
  {
   "cell_type": "code",
   "execution_count": null,
   "metadata": {},
   "outputs": [],
   "source": [
    "DELETE = input(\"Are you sure you want to delete? y/n\")\n",
    "\n",
    "if DELETE == \"y\":\n",
    "    chi.server.delete_server(server_id)\n",
    "    ip_details = chi.network.get_floating_ip(reserved_fip)\n",
    "    chi.neutron().delete_floatingip(ip_details[\"id\"])"
   ]
  }
 ],
 "nbformat": 4,
 "nbformat_minor": 0,
 "metadata": {
  "kernelspec": {
   "name": "python",
   "display_name": "Python 3"
  }
 }
}
