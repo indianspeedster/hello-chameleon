{
 "cells": [
  {
   "cell_type": "markdown",
   "metadata": {},
   "source": [
    "# Hello, Chameleon"
   ]
  },
  {
   "cell_type": "markdown",
   "metadata": {},
   "source": [
    "In this notebook, you will pick up where you left off after creating a Chameleon account, joining a Chameleon project, and preparing key pair. Now, you will learn how to:\n",
    "\n",
    "-   Reserve resources in Chameleon\n",
    "-   Access your reserved resources over SSH\n",
    "-   Execute commands on your resources\n",
    "-   Retrieving files saved on Chameleon resources\n",
    "-   Extend your Chameleon lease (in case you need more time) or delete it (in case you finish early)"
   ]
  },
  {
   "cell_type": "markdown",
   "metadata": {},
   "source": [
    "## Exercise: reserve resources\n",
    "\n",
    "Whenever you run an experiment on Chameleon, you will\n",
    "\n",
    "1.  Open a Python notebook, which includes commands to reserve the resources (VMs, bare metal servers, or networks) that you need for your experiment. Run these commands.\n",
    "2.  Wait until the resources in your experiment are ready to log in.\n",
    "3.  Log in to the resources and run your experiment (either by executing commands in the notebook, or by using SSH in a terminal and running commands in those SSH sessions).\n",
    "\n",
    "Also, when you finish an experiment and have saved all the data somewhere safe, you will *delete* the resources in your experiment to free them for use by other experimenters.\n",
    "\n",
    "In this exercise, we will reserve a resource on Chameleon."
   ]
  },
  {
   "cell_type": "markdown",
   "metadata": {},
   "source": [
    "### Generating a Virtual Machine on chameleon\n",
    "\n",
    "The below cells will take project_name and exp_name as input from the user to configure the experiment environment."
   ]
  },
  {
   "cell_type": "code",
   "execution_count": null,
   "metadata": {},
   "outputs": [],
   "source": [
    "import chi,os\n",
    "project_name = \"CHI-XXXXXX\"\n",
    "os.environ[\"OS_PROJECT_NAME\"] = project_name\n",
    "chi.set(\"project_name\", project_name)  \n",
    "chi.use_site(\"KVM@TACC\")"
   ]
  },
  {
   "cell_type": "code",
   "execution_count": null,
   "metadata": {},
   "outputs": [],
   "source": [
    "exp_name = \"\"\n",
    "user = os.getenv(\"USER\")\n",
    "server_name = f\"{exp_name}_{user}\"\n"
   ]
  },
  {
   "cell_type": "markdown",
   "metadata": {},
   "source": [
    "### Assigning flavor and image_name"
   ]
  },
  {
   "cell_type": "markdown",
   "metadata": {},
   "source": [
    "Running this cell will show tha available images that could be used in our vm."
   ]
  },
  {
   "cell_type": "code",
   "execution_count": null,
   "metadata": {},
   "outputs": [],
   "source": [
    "%%bash\n",
    "openstack image list"
   ]
  },
  {
   "cell_type": "markdown",
   "metadata": {},
   "source": [
    "Select the image which you want to use and assign it to the image_name variable in the cell below. Here we have used CC-Ubuntu20.04 but you can use different according to your need."
   ]
  },
  {
   "cell_type": "code",
   "execution_count": null,
   "metadata": {},
   "outputs": [],
   "source": [
    "flavor = \"m1.small\"\n",
    "image_name = \"CC-Ubuntu20.04\"\n"
   ]
  },
  {
   "cell_type": "markdown",
   "metadata": {},
   "source": [
    "### Creating the server"
   ]
  },
  {
   "cell_type": "code",
   "execution_count": null,
   "metadata": {},
   "outputs": [],
   "source": [
    "import chi.server\n",
    "\n",
    "server = chi.server.create_server(server_name, \n",
    "                                  image_name=image_name, \n",
    "                                  flavor_name=flavor)\n",
    "\n",
    "server_id = server.id\n",
    "chi.server.wait_for_active(server_id)"
   ]
  },
  {
   "cell_type": "markdown",
   "metadata": {},
   "source": [
    "### Attaching a floating IP\n",
    "\n",
    "At KVM@TACC, since there are no reservations, we can easily obtain a floating IP address from the available pool without any prior booking. However, it’s crucial to keep in mind that the pool of floating IPs is limited. Therefore, it’s advisable to be mindful of your usage and not allocate more floating IPs than necessary, considering the other researchers who also need to utilize them.\n",
    "\n",
    "In case you require multiple VMs for your experiment, a practical approach is to connect them all on one network. By doing so, you can use a single floating IP to link to a “head” node and access all the other nodes through it."
   ]
  },
  {
   "cell_type": "code",
   "execution_count": null,
   "metadata": {},
   "outputs": [],
   "source": [
    "reserved_fip = chi.server.associate_floating_ip(server_id)\n",
    "reserved_fip"
   ]
  },
  {
   "cell_type": "markdown",
   "metadata": {},
   "source": [
    "### Security groups\n",
    "\n",
    "The KVM cloud has a distinctive feature in the form of security groups, which are firewall rules that can be configured through OpenStack and the Horizon dashboard. They offer a hassle-free approach to configure the security of your VM. Although these groups also exist in the bare-metal cloud, they don’t serve any purpose there.\n",
    "\n",
    "By default, all external connections to your VM are blocked. Therefore, to enable remote connections, you will need to assign the “Allow SSH” security group to your VM, which can be found by viewing the list of available groups.\n",
    "\n",
    "It’s important to note that in almost all cases, the “Allow SSH” security group is the ONLY group that you need to assign to your VM.\n",
    "\n",
    "The cell below make sure that there is an Allow SSH security group created, if there is no such groups it creates one."
   ]
  },
  {
   "cell_type": "code",
   "execution_count": null,
   "metadata": {},
   "outputs": [],
   "source": [
    "%%bash\n",
    "export OS_AUTH_URL=https://kvm.tacc.chameleoncloud.org:5000/v3\n",
    "export OS_REGION_NAME=\"KVM@TACC\"\n",
    "\n",
    "access_token=$(curl -s -H\"authorization: token $JUPYTERHUB_API_TOKEN\"     \"$JUPYTERHUB_API_URL/users/$JUPYTERHUB_USER\"     | jq -r .auth_state.access_token)\n",
    "export OS_ACCESS_TOKEN=\"$access_token\"\n",
    "SECURITY_GROUP_NAME=\"Allow SSH\"\n",
    "\n",
    "if ! openstack security group show \"$SECURITY_GROUP_NAME\" > /dev/null 2>&1; then\n",
    "    openstack security group create \"$SECURITY_GROUP_NAME\"  --description \"Enable SSH traffic on TCP port 22\"\n",
    "    openstack security group rule create \"$SECURITY_GROUP_NAME\" \\\n",
    "     --protocol tcp --dst-port 22:22 --remote-ip 0.0.0.0/0\n",
    "\n",
    "\n",
    "else\n",
    "    echo \"Security group already exists\"\n",
    "fi"
   ]
  },
  {
   "cell_type": "code",
   "execution_count": null,
   "metadata": {},
   "outputs": [],
   "source": [
    "nova_server = chi.nova().servers.get(server_id)\n",
    "nova_server.add_security_group(\"Allow SSH\")\n",
    "f\"updated security groups: {[group.name for group in nova_server.list_security_group()]}\""
   ]
  },
  {
   "cell_type": "markdown",
   "metadata": {},
   "source": [
    "Wait for the server to be ready to connect."
   ]
  },
  {
   "cell_type": "code",
   "execution_count": null,
   "metadata": {},
   "outputs": [],
   "source": [
    "server.wait_for_tcp(reserved_fip, port=22)"
   ]
  },
  {
   "cell_type": "markdown",
   "metadata": {},
   "source": [
    "Now our resources are reserved and ready to login through SSH"
   ]
  },
  {
   "cell_type": "markdown",
   "metadata": {},
   "source": [
    "## Exercise: log in to resources and execute commands"
   ]
  },
  {
   "cell_type": "markdown",
   "metadata": {},
   "source": [
    "### Extracting the floating ip that is attached to our server"
   ]
  },
  {
   "cell_type": "markdown",
   "metadata": {},
   "source": [
    "### Logging in over SSH via the jupyter env"
   ]
  },
  {
   "cell_type": "code",
   "execution_count": null,
   "metadata": {},
   "outputs": [],
   "source": [
    "from chi.ssh import Remote\n",
    "\n",
    "node = Remote(reserved_fip)\n",
    "node.is_connected"
   ]
  },
  {
   "cell_type": "markdown",
   "metadata": {},
   "source": [
    "**Executing terminal commands via notebook**"
   ]
  },
  {
   "cell_type": "code",
   "execution_count": null,
   "metadata": {},
   "outputs": [],
   "source": [
    "node.run('echo \"The connection is up\"')\n",
    "node.run('echo \"Hello how are you\" > hello.txt')"
   ]
  },
  {
   "cell_type": "markdown",
   "metadata": {},
   "source": [
    "### Logging in over SSH via local terminal\n",
    "\n",
    "In a local terminal on your own laptop, run"
   ]
  },
  {
   "cell_type": "markdown",
   "metadata": {},
   "source": [
    "``` shell\n",
    "user@username:~$ ssh cc@129.114.xxx.xxx\n",
    "```\n",
    "\n",
    "If your Chameleon key is not in the default location, you should also specify the path to your key as an argument, using -i.\n",
    "\n",
    "``` shell\n",
    "eg: ssh -i ~/.ssh/id_rsa cc@129.114.xx.xxx \n",
    "```"
   ]
  },
  {
   "cell_type": "markdown",
   "metadata": {},
   "source": [
    "The output of the above command will look somewhat like this.\n",
    "\n",
    "``` shell\n",
    "Welcome to Ubuntu 20.04.4 LTS (GNU/Linux 5.4.0-124-generic x86_64)\n",
    "\n",
    " * Documentation:  https://help.ubuntu.com\n",
    " * Management:     https://landscape.canonical.com\n",
    " * Support:        https://ubuntu.com/advantage\n",
    "\n",
    "  System information as of Thu Feb 23 17:52:13 UTC 2023\n",
    "\n",
    "  System load:  0.08               Processes:             143\n",
    "  Usage of /:   10.5% of 36.90GB   Users logged in:       1\n",
    "  Memory usage: 12%                IPv4 address for ens3: 10.56.0.154\n",
    "  Swap usage:   0%\n",
    "\n",
    "\n",
    "0 updates can be applied immediately.\n",
    "\n",
    "\n",
    "Last login: Thu Feb 23 16:44:05 2023 from 100.35.242.215\n",
    "cc@cp3793-nyu-edu-fount:~$\n",
    "```"
   ]
  },
  {
   "cell_type": "markdown",
   "metadata": {},
   "source": [
    "Now we have been logged in to our remote host. we will run some commands to check the content of current directory\n",
    "\n",
    "``` shell\n",
    ":~$ ls\n",
    ":~$ \n",
    "```\n",
    "\n",
    "We can see that the root directory is empty.\n",
    "\n",
    "We will create a directory named chameleon and then create a file hello.txt inside it.\n",
    "\n",
    "``` shell\n",
    ":~$ mkdir chameleon\n",
    ":~$ cd chameleon\n",
    ":~/chameleon$ \n",
    ":~/chameleon$ echo \"hello Chameleon\" > hello.txt\n",
    ":~/chameleon$ \n",
    "```\n",
    "\n",
    "We will use the file and directory created in the later exercises where we will see how transfering of file works between remote host and local host."
   ]
  },
  {
   "cell_type": "markdown",
   "metadata": {},
   "source": [
    "## Exercise: transfer files to and from resources\n",
    "\n",
    "To securely transfer files between a local and a remote host, we will use the command-line tool called Secure Copy (SCP), which uses the Secure Shell (SSH) protocol for encryption and authentication. SCP provides a secure method for transferring files over a network, ensuring that data remains protected during the transfer process.\n",
    "\n",
    "SCP is many times confusing, so to simplify it we can follow these rules:\n",
    "\n",
    "1.  The path of the file or folder which is to be transfered should always come first.\n",
    "\n",
    "2.  The path to which it has to be transfered comes after.\n",
    "\n",
    "3.  Use -r when you are trying to transfer a directory of folder.\n",
    "\n",
    "4.  use -i “key_path” when your key is not at the default location.\n",
    "\n",
    "5.  When you are transfering a file from a remote host to your laptop, you will run *scp* from a terminal on your laptop.(Not on a terminal that is logged into the remote host)"
   ]
  },
  {
   "cell_type": "markdown",
   "metadata": {},
   "source": [
    "### Using jupyter environment to transfer files vias *scp*\n",
    "\n",
    "When we logged in via jupyter environment we created a file named hello.txt that is on our remote host, here we will run a *scp* command to get that file from remote to our jupyter environment."
   ]
  },
  {
   "cell_type": "code",
   "execution_count": null,
   "metadata": {},
   "outputs": [],
   "source": [
    "node.run(\"scp cc@{reserved_fip}:/home/cc/hello.txt .\")\n"
   ]
  },
  {
   "cell_type": "markdown",
   "metadata": {},
   "source": [
    "Now we have hello.txt in our jupyter environment we will make some changes to it by directly opening and changing it in the jupyter environment and then transfer the same file to the remote host."
   ]
  },
  {
   "cell_type": "code",
   "execution_count": null,
   "metadata": {},
   "outputs": [],
   "source": [
    "node.run(\"scp ~/work/hello.txt cc@{reserved_fip}:/home/cc/\")\n"
   ]
  },
  {
   "cell_type": "markdown",
   "metadata": {},
   "source": [
    "### Transfering files through the local terminal\n",
    "\n",
    "When we logged in through our local environment on the terminal of our laptop, We created a folder “chameleon” and inside the folder we created a file “hello.txt” on the remote host. Here in this exercise we will run a *scp* command to get that file from remote host to our laptop.\n",
    "\n",
    "``` shell\n",
    "user@username:~$ scp cc@reserved_fip:/home/cc/chameleon/hello.txt .\n",
    "hello.txt                       100%    1KB     0.1KB/s   00:00\n",
    "user@username:~$\n",
    "```\n",
    "\n",
    "Run the code below and you will get the exact command which you have to use in your local terminal"
   ]
  },
  {
   "cell_type": "code",
   "execution_count": null,
   "metadata": {},
   "outputs": [],
   "source": [
    "print(f'scp cc@{reserved_fip}:/home/cc/chameleon/hello.txt .')\n"
   ]
  },
  {
   "cell_type": "markdown",
   "metadata": {},
   "source": [
    "Now we have transfered hello.txt from remote host to our laptop. Now we can open that file edit it in any of the editor and then try transfering the same to remote host.\n",
    "\n",
    "``` shell\n",
    "user@username:~$ scp hello.txt cc@reserved_fip:/home/cc/chameleon/\n",
    "hello.txt                       100%    1KB     0.1KB/s   00:00\n",
    "user@username:~$\n",
    "```\n",
    "\n",
    "Run the code below and you will get the exact command which you have to use in your local terminal to transfer the file back to remote host"
   ]
  },
  {
   "cell_type": "code",
   "execution_count": null,
   "metadata": {},
   "outputs": [],
   "source": [
    "print(f'scp hello.txt cc@{reserved_fip}:/home/cc/chameleon/')\n"
   ]
  },
  {
   "cell_type": "markdown",
   "metadata": {},
   "source": [
    "Use -i “key_path” if your Chameleon key is not in the default location.\n",
    "\n",
    "Run the code below and you will get a similar command for transfering the file with key path when the file is not present at the default location."
   ]
  },
  {
   "cell_type": "code",
   "execution_count": null,
   "metadata": {},
   "outputs": [],
   "source": [
    "print(f'scp -i \"~/.ssh/id_rsa_chameleon\" hello.txt cc@{reserved_fip}:/home/cc/chameleon/')\n"
   ]
  },
  {
   "cell_type": "markdown",
   "metadata": {},
   "source": [
    "## Exercise: delete resources\n",
    "\n",
    "Once you are done using the resources, you can delete them by running the cell below. provide the input as “y” if you want to delete the resource."
   ]
  },
  {
   "cell_type": "code",
   "execution_count": null,
   "metadata": {},
   "outputs": [],
   "source": [
    "DELETE = False\n",
    "\n",
    "if DELETE:\n",
    "    chi.server.delete_server(server_id)\n",
    "    ip_details = chi.network.get_floating_ip(reserved_fip)\n",
    "    chi.neutron().delete_floatingip(ip_details[\"id\"])"
   ]
  }
 ],
 "nbformat": 4,
 "nbformat_minor": 0,
 "metadata": {
  "kernelspec": {
   "name": "python",
   "display_name": "Python 3"
  }
 }
}
